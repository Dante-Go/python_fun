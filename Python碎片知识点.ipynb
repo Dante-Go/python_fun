{
 "cells": [
  {
   "cell_type": "markdown",
   "metadata": {},
   "source": [
    "## 变量作用域\n",
    "- 分类：按照作用域分类\n",
    "    - 全局\n",
    "    - 局部\n",
    "- 变量的作用范围：\n",
    "- LEGB原则\n",
    "    - L （local）局部作用域\n",
    "    - E （Enclosing function locale）外部嵌套函数作用域\n",
    "    - G （global）全局\n",
    "    - B (Buildin) python内置模块的作用域"
   ]
  },
  {
   "cell_type": "markdown",
   "metadata": {},
   "source": [
    "## 提升局部变量为全局变量\n",
    "- 使用global\n",
    "## 使用globals和locals函数\n",
    "- 可以通过globals和locals显示所有的全局变量和局部变量"
   ]
  },
  {
   "cell_type": "code",
   "execution_count": 8,
   "metadata": {},
   "outputs": [
    {
     "name": "stdout",
     "output_type": "stream",
     "text": [
      "100\n",
      "100\n"
     ]
    }
   ],
   "source": [
    "def func():\n",
    "    global var1\n",
    "    var1 = 100\n",
    "    print(var1)\n",
    "\n",
    "func()\n",
    "print(var1)"
   ]
  },
  {
   "cell_type": "code",
   "execution_count": 4,
   "metadata": {
    "collapsed": true
   },
   "outputs": [],
   "source": [
    "#print(locals())\n",
    "#print(globals())"
   ]
  },
  {
   "cell_type": "markdown",
   "metadata": {},
   "source": [
    "## eval()函数\n",
    "- 把一个字符串当成一个表达式来执行\n",
    "- 语法：\n",
    "    eval(string_code, globals=None, locals=None)\n",
    "## exec()函数\n",
    "- 类似eval()，但是不返回结果\n",
    "- 语法：\n",
    "    exec(string_code, globals=None, locals=None)\n",
    "## id()函数\n",
    "- 显示一个变量或数据的唯一确定编号"
   ]
  },
  {
   "cell_type": "code",
   "execution_count": 7,
   "metadata": {},
   "outputs": [
    {
     "name": "stdout",
     "output_type": "stream",
     "text": [
      "300\n",
      "300\n",
      "None\n"
     ]
    }
   ],
   "source": [
    "x = 100\n",
    "y = 200\n",
    "z = eval(\"x+y\")\n",
    "print(z)\n",
    "print(exec('print(x+y)'))"
   ]
  },
  {
   "cell_type": "markdown",
   "metadata": {},
   "source": [
    "## 递归函数\n",
    "- python对递归深度有限制，超过限制报错"
   ]
  },
  {
   "cell_type": "markdown",
   "metadata": {},
   "source": [
    "# 内置数据结构\n",
    "## list\n",
    "- 使用下标（索引）\n",
    "- 分片\n",
    "    - 包含左边下标值，不包含右边下标值\n",
    "    - 不写，左下标默认为0，右边下标值为最大数+1，即截取到最后一个数据. [:2],[2:]\n",
    "    - 可以控制增长幅度（步长），默认为1。设置步长为2 ： [1:3:2]\n",
    "    - 下标可以超出范围，超出后不再考虑多余下标内容\n",
    "    - 下标为负数，从右往左截取。数据最后一个数据下标为-1. [-4:-2]或[-2:-4:-1]。负数步长返回list会反转数据顺序\n",
    "    - 分片返回新的list；下标修改list是在原list上修改，不会返回新list；\n",
    "- 删除数据，不会返回新list\n",
    "- 双层列表遍历，l = [['ONE', 1], ['TOW', 2], ['THREE', 3]]  for k,v in l: print(k,v)"
   ]
  },
  {
   "cell_type": "code",
   "execution_count": 9,
   "metadata": {},
   "outputs": [
    {
     "name": "stdout",
     "output_type": "stream",
     "text": [
      "[10, 20, 30, 40, 50]\n"
     ]
    }
   ],
   "source": [
    "a = [1, 2, 3, 4, 5]\n",
    "b = [i * 10 for i in a]\n",
    "print(b)"
   ]
  },
  {
   "cell_type": "code",
   "execution_count": 10,
   "metadata": {},
   "outputs": [
    {
     "name": "stdout",
     "output_type": "stream",
     "text": [
      "[2, 4, 6, 8, 10, 12, 14, 16, 18, 20, 22, 24, 26, 28, 30, 32, 34]\n"
     ]
    }
   ],
   "source": [
    "a = [x for x in range(1, 35)]\n",
    "b = [ m for m in a if m%2 == 0]\n",
    "print(b)"
   ]
  },
  {
   "cell_type": "code",
   "execution_count": 13,
   "metadata": {},
   "outputs": [
    {
     "name": "stdout",
     "output_type": "stream",
     "text": [
      "[101, 201, 102, 202, 103, 203]\n"
     ]
    }
   ],
   "source": [
    "a = [i for i in range(1,4)]\n",
    "b = [j for j in range(100, 400) if j%100 == 0]\n",
    "c = [m+n for m in a for n in b if m+n < 250]\n",
    "print(c)"
   ]
  },
  {
   "cell_type": "markdown",
   "metadata": {},
   "source": [
    "- list常用函数\n",
    "    - clear 地址不变\n",
    "    - reverse 地址不变\n",
    "    - copy，浅拷贝"
   ]
  },
  {
   "cell_type": "markdown",
   "metadata": {},
   "source": [
    "# 元组tuple\n",
    "## 元组创建\n",
    "- 创建一个元素的元组： t = (1,)； t = 1,\n",
    "## 元组特性\n",
    "- 有序\n",
    "- 不可修改，内容不可以修改，但是可以有如下操作：t1 = t1 + t2 新创建一个对象\n",
    "- list的特性\n",
    "## 元组函数\n",
    "- count，重复元素计数\n",
    "- index，返回元素的索引值"
   ]
  },
  {
   "cell_type": "markdown",
   "metadata": {},
   "source": [
    "# 集合-set\n",
    "- 集合中元素唯一，无序\n",
    "## 集合的创建\n",
    "- 使用{}定义，不可为空，否则默认是dict；s = {1,2}; d = {}\n",
    "## 集合的特性\n",
    "- 无法使用索引和分片\n",
    "- set本身不可以哈希，故set的元素不能是set\n",
    "## 集合运算\n",
    "- intersection 交集\n",
    "- difference 差集\n",
    "- union 并集\n",
    "- issubset 子集\n",
    "- issuperset 超集\n",
    "## frozen set\n",
    "- 不可以修改"
   ]
  },
  {
   "cell_type": "markdown",
   "metadata": {},
   "source": [
    "# 字典dict\n",
    "-键值对，无序\n",
    "## 字典创建\n",
    "- d = {'one':1, 'two':2}\n",
    "- d = dict({'one':1, 'two':2})\n",
    "- d = dict(one=1, two=2)\n",
    "- d = dict([('one', 1), ('two',2)])\n",
    "## 字典的特征\n",
    "- 序列类型，无序序列，没有分片和索引\n",
    "- key 必须是可哈希的值，比如int，string，float，tuple，但是list，set，dict不行\n",
    "## 字典生成式\n",
    "- d = {'one':1, 'two':2}\n",
    "- dd = {k:v for k,v in d.items() if v%2 == 0}\n",
    "## 字典相关函数\n",
    "- str(d)\n",
    "- items() 为了迭代， keys(), values()类似"
   ]
  },
  {
   "cell_type": "markdown",
   "metadata": {
    "collapsed": true
   },
   "source": [
    "# OOP\n",
    "## 实例方法与类方法\n",
    "    - 实例方法第一个参数为实例的引用，惯例命名为self\n",
    "## self不是关键字\n",
    "    - 只是表示对象函数的第一个参数，可以命名为任何标识符\n",
    "    - 调用对象函数的实例默认把自己的引用传递给对象函数的第一个参数\n",
    "    - 功能类似C/C++/JAVA的this，但是不能等价理解\n",
    "    - 方法的self不一定必须传子类或父类的实例，这是python的鸭子类型\n",
    "## super不是关键字\n",
    "    - super是一个类\n",
    "    - super的作用是获取MRO（method resolution order）列表的第一个类（除去自身）\n",
    "    - super与父类没有实质性关系，但是可以通过super调用父类"
   ]
  },
  {
   "cell_type": "code",
   "execution_count": 10,
   "metadata": {},
   "outputs": [
    {
     "name": "stdout",
     "output_type": "stream",
     "text": [
      "fish swimming\n",
      "(<class '__main__.SubFish'>, <class '__main__.Fish'>, <class 'object'>)\n",
      "fish swimming\n"
     ]
    }
   ],
   "source": [
    "class Fish():\n",
    "    def __init__(self, name):\n",
    "        self.name = name\n",
    "    def swim(self):\n",
    "        print(\"fish swimming\")\n",
    "    def cls_func():\n",
    "        print(\"cls func\")\n",
    "class SubFish(Fish):\n",
    "    def sub_func(self):\n",
    "        super().swim()\n",
    "\n",
    "class Test():\n",
    "    pass\n",
    "fish = SubFish(\"fish name\")\n",
    "test = Test()\n",
    "Fish.swim(test)\n",
    "\n",
    "print(SubFish.__mro__)\n",
    "fish.sub_func()\n"
   ]
  },
  {
   "cell_type": "markdown",
   "metadata": {},
   "source": [
    "# 多继承MRO\n",
    "     - MRO就是多继承中，用于保存继承顺序的列表\n",
    "     - MRO本身采用C3算法来对多继承中的钻石问题计算\n",
    "     - MRO列表的计算原则：\n",
    "         - 子类永远在父类前边\n",
    "         - 多个父类，根据子类继承时的书写顺序排列\n",
    "         - 多继承中，钻石继承，只记录第一个遇到的祖先类\n",
    "   \n",
    "# 构造函数\n",
    "    - 子类先尝试查找自己的构造函数\n",
    "    - 如果子类没有构造函数，则按照MRO顺序查找父类构造函数，直到找到为止"
   ]
  },
  {
   "cell_type": "markdown",
   "metadata": {},
   "source": [
    "# 类的成员描述符（属性）\n",
    "    - 无论哪种修饰符都是为了对成员属性进行相应的控制\n",
    "        - 类的方式：适合多个类的多个属性公用一个描述符\n",
    "        - property： 适用当前类适用，控制一个类的多个属性\n",
    "        - 属性修饰符：适用于当前类的一个属性"
   ]
  },
  {
   "cell_type": "markdown",
   "metadata": {},
   "source": [
    "# 类的常用魔术方法\n",
    "- ``__call__``: 对象当函数调用时，自动调用\n",
    "- ``__new__``: 对象实例化方法，较特殊，一般不需要使用\n",
    "- ``__repr__``: 和``__str__``类似，不同的是``__repr__``面向开发者，重点在准确性，而``__str__``则重点在于可读性\n",
    "- ``__setattr__``：注意可能引发无线递归"
   ]
  },
  {
   "cell_type": "code",
   "execution_count": 16,
   "metadata": {},
   "outputs": [
    {
     "name": "stdout",
     "output_type": "stream",
     "text": [
      "<__main__.A object at 0x000001D11F4F7DD8>\n",
      "class B str\n",
      "class c str\n",
      "class d repr\n"
     ]
    }
   ],
   "source": [
    "class A():\n",
    "    pass\n",
    "\n",
    "class B():\n",
    "    def __str__(self):\n",
    "        return \"class B str\"\n",
    "\n",
    "class C():\n",
    "    def __repr__(self):\n",
    "        return \"class c repr\"\n",
    "    def __str__(self):\n",
    "        return \"class c str\"\n",
    "    \n",
    "class D():\n",
    "    def __repr__(self):\n",
    "        return \"class d repr\"\n",
    "\n",
    "a = A()\n",
    "print(a)\n",
    "b = B()\n",
    "print(b)\n",
    "c = C()\n",
    "print(c)\n",
    "d = D()\n",
    "print(d)"
   ]
  },
  {
   "cell_type": "code",
   "execution_count": 19,
   "metadata": {
    "scrolled": true
   },
   "outputs": [
    {
     "name": "stdout",
     "output_type": "stream",
     "text": [
      "{}\n",
      "test\n"
     ]
    }
   ],
   "source": [
    "class Person():\n",
    "    def __setattr__(self, name, value):\n",
    "        # self.name = value #出现死循环\n",
    "        super().__setattr__(name, value)\n",
    "        print(\"test\")\n",
    "\n",
    "p = Person()\n",
    "print(p.__dict__)\n",
    "p.age = 18"
   ]
  },
  {
   "cell_type": "markdown",
   "metadata": {},
   "source": [
    "# 类方法和静态方法\n",
    "- 静态方法（@staticmethod）: 通过类直接调用，不需要实例化，不会隐式传递self\n",
    "- 类方法（@classmethod）：隐式传递的cls为类本身，调用方法传的值也必须是公有属性"
   ]
  },
  {
   "cell_type": "code",
   "execution_count": 22,
   "metadata": {
    "scrolled": true
   },
   "outputs": [
    {
     "name": "stdout",
     "output_type": "stream",
     "text": [
      "<__main__.Person object at 0x000001D11F4F1E48>\n",
      "<class '__main__.Person'>\n",
      "class method play\n",
      "static method say\n",
      "static method say\n"
     ]
    }
   ],
   "source": [
    "class Person():\n",
    "    @classmethod\n",
    "    def play(cls):\n",
    "        print(cls)\n",
    "        print(\"class method play\")\n",
    "    @staticmethod\n",
    "    def say():\n",
    "        print(\"static method say\")\n",
    "\n",
    "p = Person()\n",
    "print(p)\n",
    "Person.play()\n",
    "Person.say()\n",
    "p.say()"
   ]
  },
  {
   "cell_type": "markdown",
   "metadata": {
    "collapsed": true
   },
   "source": [
    "# 模块\n",
    "- 模块文件中要添加程序入口： if ``__name__`` == '``__main__``': 来避免模块代码被导入时候被动执行的问题\n",
    "- 建议所有程序的入口都以上述代码为入口\n",
    "- 对于from xxx import *这种导入方式，``__all__``可以控制那些模块导入\n",
    "- ``__init__``.py中可以统一管理模块下导入的包"
   ]
  },
  {
   "cell_type": "markdown",
   "metadata": {},
   "source": [
    "# 闭包\n",
    "- 函数嵌套定义，内部函数使用外部函数的参数或局部变量，内部函数作为返回值\n",
    "- 闭包的经典错误原因：返回函数引用局部变量，局部变量并非立即执行，而是等到返回值统一执行；\n",
    "- 避免经典错误：返回函数不能引用任何循环变量\n",
    "- 解决方案：再创建一个函数，用该函数的参数绑定循环变量的当前值，无论该循环变量以后如何改变，已绑定的函数参数值不再改变"
   ]
  },
  {
   "cell_type": "code",
   "execution_count": 3,
   "metadata": {},
   "outputs": [
    {
     "name": "stdout",
     "output_type": "stream",
     "text": [
      "9\n",
      "9\n",
      "9\n"
     ]
    }
   ],
   "source": [
    "def funcA():\n",
    "    fs = []\n",
    "    for i in range(1,4):\n",
    "        def funcC():\n",
    "            return i*i\n",
    "        fs.append(funcC)\n",
    "    return fs\n",
    "\n",
    "f1, f2, f3 = funcA()\n",
    "print(f1())\n",
    "print(f2())\n",
    "print(f3())"
   ]
  },
  {
   "cell_type": "code",
   "execution_count": 4,
   "metadata": {},
   "outputs": [
    {
     "name": "stdout",
     "output_type": "stream",
     "text": [
      "1\n",
      "4\n",
      "9\n"
     ]
    }
   ],
   "source": [
    "def funcA():\n",
    "    def funcB(j):\n",
    "        def funcC():\n",
    "            return j*j\n",
    "        return funcC\n",
    "    fs = []\n",
    "    for i in range(1, 4):\n",
    "        fs.append(funcB(i))\n",
    "    return fs\n",
    "\n",
    "f1, f2, f3 = funcA()\n",
    "print(f1())\n",
    "print(f2())\n",
    "print(f3())"
   ]
  },
  {
   "cell_type": "markdown",
   "metadata": {},
   "source": [
    "# 持久化-shelve\n",
    "- 类似字典，用kv对保存数据\n",
    "- shelve 忘记写回；所以，要记得制定writeback参数"
   ]
  },
  {
   "cell_type": "code",
   "execution_count": 5,
   "metadata": {},
   "outputs": [
    {
     "name": "stdout",
     "output_type": "stream",
     "text": [
      "{'eins': 1, 'zwei': 2, 'drei': 3}\n",
      "{'eins': 100, 'zwei': 2, 'drei': 3}\n"
     ]
    }
   ],
   "source": [
    "import shelve\n",
    " \n",
    "with shelve.open(r'shv.db', writeback=True) as shv:\n",
    "    shv['one'] = {'eins': 1, 'zwei':2, 'drei':3}\n",
    "    \n",
    "with shelve.open(r'shv.db', writeback=True) as shv:\n",
    "    print(shv['one'])\n",
    "    kv1 = shv['one'] \n",
    "    kv1['eins'] = 100\n",
    "    \n",
    "with shelve.open(r'shv.db', writeback=True) as shv:\n",
    "    print(shv['one'])\n",
    "    "
   ]
  },
  {
   "cell_type": "markdown",
   "metadata": {},
   "source": [
    "# 多线程\n",
    "- thread模块不推荐使用，推荐使用新的threading模块替代之。Python3中已经把thread重命名为``_thread``；\n",
    "- python中有GIL，不能算是真正的多线程；\n",
    "- 线程安全的类型：queue；线程不安全类型：list，set，dict；\n",
    "- 可重入锁。一个锁，可以被一个线程多次申请，主要解决地推调用中申请锁的问题；\n",
    "# 线程替代方案\n",
    "- subprocess：使用进程；python2.4\n",
    "- multiprocessing，允许多核多CPU派生进程。python2.6之后\n",
    "- concurrent.futures，新的异步执行模块，任务级别的。python3.2之后\n",
    "# 多进程\n",
    "- 进程之间无任何共享\n",
    "- joinablequeue"
   ]
  },
  {
   "cell_type": "code",
   "execution_count": null,
   "metadata": {
    "collapsed": true
   },
   "outputs": [],
   "source": [
    "import multiprocessing\n",
    "from time import ctime\n",
    "\n",
    "def consumer(input_q):\n",
    "    print(\"into consumer:\", ctime())\n",
    "    while True:\n",
    "        item = input_q.get()\n",
    "        if item is None:\n",
    "            break\n",
    "        print(\"pull\", item, \"out of q\")\n",
    "        input_q.task_done()\n",
    "    print(\"out of consumer:\", ctime())\n",
    "    \n",
    "def producer(sequence, output_q):\n",
    "    print(\"Into producer:\", ctime())\n",
    "    for item in sequence:\n",
    "        output_q.put(item)\n",
    "        print(\"put \", item, \" into q\")\n",
    "    print(\"Out of producer:\", ctime())\n",
    "\n",
    "if __name__ == '__main__':\n",
    "    q = multiprocessing.JoinableQueue()\n",
    "    cons_p = multiprocessing.Process( target = consumer, args = (q,))\n",
    "    cons_p.daemon = True\n",
    "    cons_p.start()\n",
    "    \n",
    "    sequence = [1, 2, 3, 4, None]\n",
    "    producer(sequence, q)\n",
    "    q.join()"
   ]
  },
  {
   "cell_type": "markdown",
   "metadata": {},
   "source": [
    "- Into producer: Mon Dec 17 15:03:43 2018\n",
    "- put  1  into q\n",
    "- put  2  into q\n",
    "- put  3  into q\n",
    "- put  4  into q\n",
    "- put  None  into q\n",
    "- Out of producer: Mon Dec 17 15:03:43 2018\n",
    "- into consumer: Mon Dec 17 15:03:43 2018\n",
    "- pull 1 out of q\n",
    "- pull 2 out of q\n",
    "- pull 3 out of q\n",
    "- pull 4 out of q\n",
    "- out of consumer: Mon Dec 17 15:03:43 2018"
   ]
  },
  {
   "cell_type": "markdown",
   "metadata": {
    "collapsed": true
   },
   "source": [
    "# 协程（coroutine）\n",
    "- 参考资料\n",
    "    - http://python.jobbole.com/86481\n",
    "    - http://python.jobbole.com/87310\n",
    "    - https://segmentfault.com/a/1190000009781688\n",
    "\n",
    "# 迭代器\n",
    "- 可迭代（iterable）：直接作用于for循环的变量\n",
    "- 迭代器（Iterator）:不但可以作用于for循环，还可以被next调用\n",
    "- list是典型的可迭代对象，但不是迭代器\n",
    "- 通过iter可以转换"
   ]
  },
  {
   "cell_type": "code",
   "execution_count": 2,
   "metadata": {},
   "outputs": [
    {
     "name": "stdout",
     "output_type": "stream",
     "text": [
      "0\n",
      "1\n",
      "2\n",
      "3\n",
      "4\n",
      "0\n",
      "1\n",
      "2\n",
      "3\n",
      "4\n",
      "True\n",
      "False\n",
      "True\n"
     ]
    }
   ],
   "source": [
    "l = [i for i in range(5)]\n",
    "\n",
    "# l 可迭代对象\n",
    "for idx in l:\n",
    "    print(idx)\n",
    "\n",
    "# range() 迭代器\n",
    "for itm in range(5):\n",
    "    print(itm)\n",
    "\n",
    "from collections import Iterable, Iterator\n",
    "print(isinstance(l, Iterable))\n",
    "print(isinstance(l, Iterator))\n",
    "\n",
    "s_iter = iter(l)\n",
    "print(isinstance(s_iter, Iterator))"
   ]
  },
  {
   "cell_type": "markdown",
   "metadata": {},
   "source": [
    "# 生成器\n",
    "- generator: 一边循环一边计算下一个元素的机制/算法；\n",
    "- 需要满足以下条件：\n",
    "    - 每次调用都生产出for循环需要的下一个元素\n",
    "    - 如果达到最后一个后，报出StopIterator异常\n",
    "    - 可以被next函数调用"
   ]
  },
  {
   "cell_type": "code",
   "execution_count": 6,
   "metadata": {},
   "outputs": [
    {
     "name": "stdout",
     "output_type": "stream",
     "text": [
      "<class 'list'>\n",
      "<class 'generator'>\n"
     ]
    }
   ],
   "source": [
    "L = [x*x for x in range(5)]\n",
    "g = (x*x for x in range(5))\n",
    "\n",
    "print(type(L))\n",
    "print(type(g))"
   ]
  },
  {
   "cell_type": "code",
   "execution_count": 15,
   "metadata": {},
   "outputs": [
    {
     "name": "stdout",
     "output_type": "stream",
     "text": [
      "step 1\n",
      "1\n",
      "step 2\n",
      "2\n"
     ]
    }
   ],
   "source": [
    "def odd():\n",
    "    print(\"step 1\")\n",
    "    yield 1\n",
    "    print(\"step 2\")\n",
    "    yield 2\n",
    "    print(\"step 3\")\n",
    "    yield 3\n",
    "\n",
    "#odd()\n",
    "#one = next(odd())\n",
    "#print(one)\n",
    "#two = next(odd())\n",
    "#print(two)\n",
    "\n",
    "g = odd()\n",
    "one = next(g)\n",
    "print(one)\n",
    "two = next(g)\n",
    "print(two)"
   ]
  },
  {
   "cell_type": "code",
   "execution_count": 17,
   "metadata": {},
   "outputs": [
    {
     "name": "stdout",
     "output_type": "stream",
     "text": [
      "1\n",
      "1\n",
      "2\n",
      "3\n",
      "5\n"
     ]
    },
    {
     "ename": "StopIteration",
     "evalue": "Done",
     "traceback": [
      "\u001b[1;31m---------------------------------------------------------------------------\u001b[0m",
      "\u001b[1;31mStopIteration\u001b[0m                             Traceback (most recent call last)",
      "\u001b[1;32m<ipython-input-17-d2caf800fe9c>\u001b[0m in \u001b[0;36m<module>\u001b[1;34m()\u001b[0m\n\u001b[0;32m      9\u001b[0m \u001b[0mg\u001b[0m \u001b[1;33m=\u001b[0m \u001b[0mfib\u001b[0m\u001b[1;33m(\u001b[0m\u001b[1;36m5\u001b[0m\u001b[1;33m)\u001b[0m\u001b[1;33m\u001b[0m\u001b[0m\n\u001b[0;32m     10\u001b[0m \u001b[1;32mfor\u001b[0m \u001b[0mi\u001b[0m \u001b[1;32min\u001b[0m \u001b[0mrange\u001b[0m\u001b[1;33m(\u001b[0m\u001b[1;36m6\u001b[0m\u001b[1;33m)\u001b[0m\u001b[1;33m:\u001b[0m\u001b[1;33m\u001b[0m\u001b[0m\n\u001b[1;32m---> 11\u001b[1;33m     \u001b[0mrst\u001b[0m \u001b[1;33m=\u001b[0m \u001b[0mnext\u001b[0m\u001b[1;33m(\u001b[0m\u001b[0mg\u001b[0m\u001b[1;33m)\u001b[0m\u001b[1;33m\u001b[0m\u001b[0m\n\u001b[0m\u001b[0;32m     12\u001b[0m     \u001b[0mprint\u001b[0m\u001b[1;33m(\u001b[0m\u001b[0mrst\u001b[0m\u001b[1;33m)\u001b[0m\u001b[1;33m\u001b[0m\u001b[0m\n",
      "\u001b[1;31mStopIteration\u001b[0m: Done"
     ],
     "output_type": "error"
    }
   ],
   "source": [
    "def fib(max):\n",
    "    n, a, b = 0, 0, 1\n",
    "    while n < max:\n",
    "        yield b\n",
    "        a,b = b, a+b\n",
    "        n += 1\n",
    "    return 'Done'\n",
    "\n",
    "g = fib(5)\n",
    "for i in range(6):\n",
    "    rst = next(g)\n",
    "    print(rst)"
   ]
  },
  {
   "cell_type": "code",
   "execution_count": 18,
   "metadata": {},
   "outputs": [
    {
     "name": "stdout",
     "output_type": "stream",
     "text": [
      "1\n",
      "1\n",
      "2\n",
      "3\n",
      "5\n"
     ]
    }
   ],
   "source": [
    "ge = fib(5)\n",
    "for i in ge:\n",
    "    print(i)"
   ]
  },
  {
   "cell_type": "markdown",
   "metadata": {},
   "source": [
    "# 协程\n",
    "- python3.4引入协程，用yield实现\n",
    "- python3.5引入协程语法\n",
    "- 从技术角度讲，协程就是一个你可以暂停执行的函数，或者干脆把协程理解成生成器\n",
    "- 非抢占式多任务产生子程序的计算机程序组件，协程允许不同入口点在不同位置暂停或开始执行程序\n",
    "- 协程的实现：\n",
    "    - yield返回\n",
    "    - send调用\n",
    "- 协程的四个状态\n",
    "    - inspect.getgeneratorstate()，返回下述的一个：\n",
    "    - GEN_CREATED: 等待开始执行\n",
    "    - GEN_RUNNING: 解释器正在执行\n",
    "    - GET_SUSPENDED: 在yield表达式处暂停\n",
    "    - GEN_CLOSED: 执行结束\n",
    "    - next() ： 预激\n",
    "- 协程终止\n",
    "    - 协程中未处理的异常会向上冒泡，传给next或send的调用方，需要处理\n",
    "    - 主动终止协程方式：发送某个哨兵值，让协程退出。内置的None和Ellipsis等常量常用作哨符值；\n",
    "- yield from\n",
    "    - 调用协程为了得到返回值，协程必须正常终止\n",
    "    - 生成器正常终止会发出StopIteration异常，异常对象的value属性保存返回值\n",
    "    - yield from从内部补货StopIteration异常\n",
    "    - 委派生成器\n",
    "        - 包含yield from表达式的生成器函数\n",
    "        - 委派生成器在yield from 表达式处暂停，调用方可以直接把数据发给子生成器\n",
    "        - 子生成器再把产出的值发给调用方\n",
    "        - 子生成器在最后，解释器会抛出StopIteration异常，并且把返回值附加到异常对象上"
   ]
  },
  {
   "cell_type": "code",
   "execution_count": 19,
   "metadata": {},
   "outputs": [
    {
     "name": "stdout",
     "output_type": "stream",
     "text": [
      "1111\n",
      "-> start\n",
      "2222\n",
      "-> received zhixiao\n"
     ]
    },
    {
     "ename": "StopIteration",
     "evalue": "",
     "traceback": [
      "\u001b[1;31m---------------------------------------------------------------------------\u001b[0m",
      "\u001b[1;31mStopIteration\u001b[0m                             Traceback (most recent call last)",
      "\u001b[1;32m<ipython-input-19-807cffb88cf4>\u001b[0m in \u001b[0;36m<module>\u001b[1;34m()\u001b[0m\n\u001b[0;32m      8\u001b[0m \u001b[0mnext\u001b[0m\u001b[1;33m(\u001b[0m\u001b[0msc\u001b[0m\u001b[1;33m)\u001b[0m\u001b[1;33m\u001b[0m\u001b[0m\n\u001b[0;32m      9\u001b[0m \u001b[0mprint\u001b[0m\u001b[1;33m(\u001b[0m\u001b[1;36m2222\u001b[0m\u001b[1;33m)\u001b[0m\u001b[1;33m\u001b[0m\u001b[0m\n\u001b[1;32m---> 10\u001b[1;33m \u001b[0msc\u001b[0m\u001b[1;33m.\u001b[0m\u001b[0msend\u001b[0m\u001b[1;33m(\u001b[0m\u001b[1;34m'zhixiao'\u001b[0m\u001b[1;33m)\u001b[0m\u001b[1;33m\u001b[0m\u001b[0m\n\u001b[0m",
      "\u001b[1;31mStopIteration\u001b[0m: "
     ],
     "output_type": "error"
    }
   ],
   "source": [
    "def simple_coroutine():\n",
    "    print('-> start')\n",
    "    x = yield\n",
    "    print('-> received', x)\n",
    "    \n",
    "sc = simple_coroutine()\n",
    "print(1111)\n",
    "next(sc)\n",
    "print(2222)\n",
    "sc.send('zhixiao')"
   ]
  },
  {
   "cell_type": "code",
   "execution_count": 11,
   "metadata": {},
   "outputs": [
    {
     "name": "stdout",
     "output_type": "stream",
     "text": [
      "->start\n",
      "5\n",
      "->received 5 6\n",
      "11\n",
      "->received 5 6 7\n"
     ]
    },
    {
     "ename": "StopIteration",
     "evalue": "",
     "traceback": [
      "\u001b[1;31m---------------------------------------------------------------------------\u001b[0m",
      "\u001b[1;31mStopIteration\u001b[0m                             Traceback (most recent call last)",
      "\u001b[1;32m<ipython-input-11-02768c78afb2>\u001b[0m in \u001b[0;36m<module>\u001b[1;34m()\u001b[0m\n\u001b[0;32m     13\u001b[0m \u001b[0mbb\u001b[0m \u001b[1;33m=\u001b[0m \u001b[0msc\u001b[0m\u001b[1;33m.\u001b[0m\u001b[0msend\u001b[0m\u001b[1;33m(\u001b[0m\u001b[1;36m6\u001b[0m\u001b[1;33m)\u001b[0m\u001b[1;33m\u001b[0m\u001b[0m\n\u001b[0;32m     14\u001b[0m \u001b[0mprint\u001b[0m\u001b[1;33m(\u001b[0m\u001b[0mbb\u001b[0m\u001b[1;33m)\u001b[0m\u001b[1;33m\u001b[0m\u001b[0m\n\u001b[1;32m---> 15\u001b[1;33m \u001b[0mcc\u001b[0m \u001b[1;33m=\u001b[0m \u001b[0msc\u001b[0m\u001b[1;33m.\u001b[0m\u001b[0msend\u001b[0m\u001b[1;33m(\u001b[0m\u001b[1;36m7\u001b[0m\u001b[1;33m)\u001b[0m\u001b[1;33m\u001b[0m\u001b[0m\n\u001b[0m\u001b[0;32m     16\u001b[0m \u001b[0mprint\u001b[0m\u001b[1;33m(\u001b[0m\u001b[0mcc\u001b[0m\u001b[1;33m)\u001b[0m\u001b[1;33m\u001b[0m\u001b[0m\n",
      "\u001b[1;31mStopIteration\u001b[0m: "
     ],
     "output_type": "error"
    }
   ],
   "source": [
    "def simple_coroutine(a):\n",
    "    print('->start')\n",
    "    #print( \"-%s\" % (yield a))\n",
    "    b = yield a\n",
    "    print('->received', a, b)\n",
    "    c = yield a + b\n",
    "    print('->received', a, b, c)\n",
    "    \n",
    "sc = simple_coroutine(5)\n",
    "\n",
    "aa = next(sc)\n",
    "print(aa)\n",
    "bb = sc.send(6)\n",
    "print(bb)\n",
    "cc = sc.send(7)\n",
    "print(cc)\n"
   ]
  },
  {
   "cell_type": "code",
   "execution_count": 2,
   "metadata": {},
   "outputs": [
    {
     "name": "stdout",
     "output_type": "stream",
     "text": [
      "['A', 'B']\n",
      "['a', 'b']\n"
     ]
    }
   ],
   "source": [
    "def gen():\n",
    "    for c in 'AB':\n",
    "        yield c\n",
    "\n",
    "print(list(gen()))\n",
    "\n",
    "def gen_new():\n",
    "    yield from 'ab'\n",
    "\n",
    "print(list(gen_new()))"
   ]
  },
  {
   "cell_type": "code",
   "execution_count": 12,
   "metadata": {},
   "outputs": [
    {
     "name": "stdout",
     "output_type": "stream",
     "text": [
      "{'boys_2': Res(count=9, average=40.422222222222224), 'boys_1': Res(count=9, average=1.3888888888888888)}\n"
     ]
    }
   ],
   "source": [
    "from collections import namedtuple\n",
    "\n",
    "ResClass = namedtuple('Res', 'count average')\n",
    "\n",
    "def averager():\n",
    "    total = 0.0\n",
    "    count = 0\n",
    "    average = None\n",
    "    while True:\n",
    "        term = yield\n",
    "        if term is None:\n",
    "            break\n",
    "        total += term\n",
    "        count += 1\n",
    "        average = total / count\n",
    "    return ResClass(count, average)\n",
    "\n",
    "def grouper(storages, key):\n",
    "    while True:\n",
    "        storages[key] = yield from averager()\n",
    "\n",
    "def client():\n",
    "    process_data = {\n",
    "        'boys_2': [39.0, 40.8, 43.2, 40.8, 43.1, 38.6, 41.4, 40.6, 36.3],\n",
    "        'boys_1': [1.38, 1.5, 1.32, 1.25, 1.37, 1.48, 1.25, 1.49, 1.46]\n",
    "    }\n",
    "    \n",
    "    storages = {}\n",
    "    for k, v in process_data.items():\n",
    "        coroutine = grouper(storages, k)\n",
    "        next( coroutine)\n",
    "        \n",
    "        for dt in v:\n",
    "            coroutine.send(dt)\n",
    "        \n",
    "        coroutine.send(None)\n",
    "    print(storages)\n",
    "\n",
    "##############\n",
    "client()"
   ]
  },
  {
   "cell_type": "code",
   "execution_count": 13,
   "metadata": {},
   "outputs": [
    {
     "name": "stdout",
     "output_type": "stream",
     "text": [
      "start....(<_MainThread(MainThread, started 36248)>)\n",
      "start....(<_MainThread(MainThread, started 36248)>)\n",
      "Done.....(<_MainThread(MainThread, started 36248)>)\n",
      "Done.....(<_MainThread(MainThread, started 36248)>)\n"
     ]
    }
   ],
   "source": [
    "import asyncio\n",
    "import threading\n",
    "\n",
    "@asyncio.coroutine\n",
    "def hello():\n",
    "    print('start....(%s)' % threading.currentThread())\n",
    "    yield from asyncio.sleep(5)\n",
    "    print('Done.....(%s)' % threading.currentThread())\n",
    "    \n",
    "loop = asyncio.get_event_loop()\n",
    "tasks = [hello(), hello()]\n",
    "loop.run_until_complete(asyncio.wait(tasks))\n",
    "loop.close()\n",
    "    "
   ]
  },
  {
   "cell_type": "markdown",
   "metadata": {},
   "source": [
    "# concurrent.futures\n",
    "- python3新增\n",
    "- 类似其他语言线程池的概念\n",
    "- 利用multiprocessing实现真正的并行计算\n",
    "- 核心原理：以子进程的形式，并行运行多个python解释器，从而令python程序可以利用多核CPU来提升执行速度。由于子进程和主解释器相分离，所以他们的全局解释器锁(GIL）也是相互独立的。每个进程都能完整的使用一个CPU内核。\n",
    "- concurrent.futures.Executor/ThreadPoolExecutor/ProcessPoolExecutor需要自行选择\n",
    "- submit(fn, args, kwargs）"
   ]
  },
  {
   "cell_type": "code",
   "execution_count": null,
   "metadata": {
    "collapsed": true
   },
   "outputs": [],
   "source": [
    "from concurrent.futures import ThreadPoolExecutor\n",
    "import time\n",
    "\n",
    "def return_future(msg):\n",
    "    time.sleep(3)\n",
    "    return msg\n",
    "\n",
    "pool = ThreadPoolExecutor(max_workers=2)\n",
    "\n",
    "f1 = pool.submit(return_future, 'hello')\n",
    "f2 = pool.submit(return_future, 'world')\n",
    "\n",
    "print(f1.done())\n",
    "time.sleep(3)\n",
    "print(f2.done())\n",
    "\n",
    "print(f1.result)\n",
    "print(f2.result)"
   ]
  },
  {
   "cell_type": "markdown",
   "metadata": {
    "collapsed": true
   },
   "source": [
    "# current中map函数\n",
    "- map(fn, \\*iterables, timeout=None)\n",
    "    - 和map函数类似\n",
    "    - 函数需要异步执行\n",
    "    - map和submit使用其中一个\n",
    "\n",
    "# Future\n",
    "- "
   ]
  },
  {
   "cell_type": "code",
   "execution_count": 14,
   "metadata": {},
   "outputs": [
    {
     "name": "stdout",
     "output_type": "stream",
     "text": [
      "1\n",
      "2\n",
      "ok\n",
      "ok\n"
     ]
    }
   ],
   "source": [
    "import time,re\n",
    "import os, datetime\n",
    "from concurrent import futures\n",
    "\n",
    "data = ['1', '2']\n",
    "\n",
    "def wait_on(argument):\n",
    "    print(argument)\n",
    "    time.sleep(2)\n",
    "    return 'ok'\n",
    "\n",
    "ex = futures.ThreadPoolExecutor(max_workers=2)\n",
    "for i in ex.map(wait_on, data):\n",
    "    print(i)"
   ]
  },
  {
   "cell_type": "markdown",
   "metadata": {},
   "source": [
    "# 正则表达式及RE"
   ]
  },
  {
   "cell_type": "code",
   "execution_count": 27,
   "metadata": {},
   "outputs": [
    {
     "name": "stdout",
     "output_type": "stream",
     "text": [
      "<_sre.SRE_Match object; span=(4, 6), match='12'>\n",
      "12\n",
      "4\n",
      "6\n",
      "12\n",
      "9\n",
      "['9', '12', '33', '449']\n",
      "XXXoneXXXtowXXXfourXXX\n",
      "['人生苦短', '我用']\n"
     ]
    }
   ],
   "source": [
    "import re\n",
    "\n",
    "p = re.compile(r'\\d+')\n",
    "m = p.match('9one12tow33four449', 4, 6)\n",
    "print(m)\n",
    "print(m[0])\n",
    "print(m.start(0))\n",
    "print(m.end(0))\n",
    "print(m.group(0))\n",
    "\n",
    "m = p.search('9one12tow33four449')\n",
    "print(m.group(0))\n",
    "\n",
    "rst = p.findall('9one12tow33four449')\n",
    "print(rst)\n",
    "\n",
    "rst = p.sub(r'XXX', '9one12tow33four449')\n",
    "print(rst)\n",
    "\n",
    "str_cn = u'人生苦短，我用python'\n",
    "p = re.compile(r'[\\u4e00-\\u9fa5]+')\n",
    "rst = p.findall(str_cn)\n",
    "print(rst)"
   ]
  },
  {
   "cell_type": "markdown",
   "metadata": {},
   "source": [
    "# 贪婪和非贪婪\n",
    "- 正则默认贪婪匹配\n",
    "- *表示贪婪匹配\n",
    "- ?表示非贪婪"
   ]
  },
  {
   "cell_type": "code",
   "execution_count": 28,
   "metadata": {},
   "outputs": [
    {
     "name": "stdout",
     "output_type": "stream",
     "text": [
      "<div>name</div><div>age</div>\n",
      "<div>name</div>\n"
     ]
    }
   ],
   "source": [
    "import re\n",
    "\n",
    "str_t = u'<div>name</div><div>age</div>'\n",
    "\n",
    "p1 = re.compile(r'<div>.*</div>')\n",
    "p2 = re.compile(r'<div>.*?</div>')\n",
    "\n",
    "m1 = p1.search(str_t)\n",
    "print(m1.group())\n",
    "\n",
    "m2 = p2.search(str_t)\n",
    "print(m2.group())"
   ]
  },
  {
   "cell_type": "markdown",
   "metadata": {
    "collapsed": true
   },
   "source": [
    "# GUI\n",
    "- Tkinter: \n",
    "    - 绑定的是TK GUI工具集，用途python包装的Tcl代码\n",
    "- PyGTK\n",
    "    - Tkinter的替代品\n",
    "- wxPython\n",
    "    - 跨平台的Python GUI\n",
    "- PyQt\n",
    "    - 跨平台\n",
    "    - 商业授权可能有问题"
   ]
  },
  {
   "cell_type": "code",
   "execution_count": 4,
   "metadata": {
    "collapsed": true
   },
   "outputs": [],
   "source": [
    "import tkinter\n",
    "\n",
    "def showLabel():\n",
    "    global baseFrame\n",
    "    lb = tkinter.Label(baseFrame, text='show label')\n",
    "    lb.pack()\n",
    "    \n",
    "baseFrame = tkinter.Tk()\n",
    "btn = tkinter.Button(baseFrame, text='show Label', command=showLabel)\n",
    "btn.pack()\n",
    "\n",
    "baseFrame.mainloop()"
   ]
  },
  {
   "cell_type": "code",
   "execution_count": null,
   "metadata": {
    "collapsed": true
   },
   "outputs": [],
   "source": []
  },
  {
   "cell_type": "code",
   "execution_count": null,
   "metadata": {
    "collapsed": true
   },
   "outputs": [],
   "source": []
  },
  {
   "cell_type": "code",
   "execution_count": null,
   "metadata": {
    "collapsed": true
   },
   "outputs": [],
   "source": []
  },
  {
   "cell_type": "code",
   "execution_count": null,
   "metadata": {
    "collapsed": true
   },
   "outputs": [],
   "source": []
  },
  {
   "cell_type": "code",
   "execution_count": null,
   "metadata": {
    "collapsed": true
   },
   "outputs": [],
   "source": []
  },
  {
   "cell_type": "code",
   "execution_count": null,
   "metadata": {
    "collapsed": true
   },
   "outputs": [],
   "source": []
  }
 ],
 "metadata": {
  "kernelspec": {
   "display_name": "Python 3",
   "language": "python",
   "name": "python3"
  },
  "language_info": {
   "codemirror_mode": {
    "name": "ipython",
    "version": 3
   },
   "file_extension": ".py",
   "mimetype": "text/x-python",
   "name": "python",
   "nbconvert_exporter": "python",
   "pygments_lexer": "ipython3",
   "version": "3.6.3"
  }
 },
 "nbformat": 4,
 "nbformat_minor": 2
}
